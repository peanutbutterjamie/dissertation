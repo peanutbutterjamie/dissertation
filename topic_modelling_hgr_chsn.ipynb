{
  "nbformat": 4,
  "nbformat_minor": 0,
  "metadata": {
    "colab": {
      "name": "topic_modelling_hgr_chsn.ipynb",
      "provenance": []
    },
    "kernelspec": {
      "name": "python3",
      "display_name": "Python 3"
    },
    "language_info": {
      "name": "python"
    }
  },
  "cells": [
    {
      "cell_type": "code",
      "execution_count": null,
      "metadata": {
        "id": "6XztnIcgBQnG"
      },
      "outputs": [],
      "source": [
        "!pip3 install pickle5\n",
        "!pip install pyLDAvis\n",
        "import pickle5 as pickle\n",
        "import pandas as pd\n",
        "import gensim\n",
        "import gensim.corpora as corpora\n",
        "from gensim.corpora import Dictionary\n",
        "from gensim import corpora\n",
        "import pyLDAvis\n",
        "import pyLDAvis.gensim_models as gensimvis\n",
        "pyLDAvis.enable_notebook()\n",
        "from gensim.models.ldamodel import LdaModel"
      ]
    },
    {
      "cell_type": "code",
      "source": [
        "data = pickle.load(open('data_hgr_preprocessed_2020.pkl', \"rb\" )) #데이터 불러오기\n",
        "data['month']=data['datetime'].map(lambda x : x.month)"
      ],
      "metadata": {
        "id": "97N7Hs-EBT2y"
      },
      "execution_count": null,
      "outputs": []
    },
    {
      "cell_type": "code",
      "source": [
        "def lda (body):\n",
        "  dictionary = corpora.Dictionary(body)\n",
        "  dictionary.filter_extremes(no_below=10)\n",
        "  corpus = [dictionary.doc2bow(text) for text in body]\n",
        "  NUM_TOPICS =5\n",
        "  lda_model = gensim.models.ldamodel.LdaModel(corpus, num_topics = NUM_TOPICS, id2word=dictionary, passes=5)\n",
        "  topics = lda_model.print_topics(num_words=20)\n",
        "  return lda_model, topics, corpus"
      ],
      "metadata": {
        "id": "10dOpZWIBlIM"
      },
      "execution_count": null,
      "outputs": []
    },
    {
      "cell_type": "code",
      "source": [
        "lda_model_whole, topic_whole, corpus_whole =lda(data['body'])"
      ],
      "metadata": {
        "id": "IPoSCqgpBzti"
      },
      "execution_count": null,
      "outputs": []
    },
    {
      "cell_type": "code",
      "source": [
        "def make_topictable_per_doc(ldamodel, corpus):\n",
        "    topic_table = pd.DataFrame()\n",
        "\n",
        "\n",
        "    for i, topic_list in enumerate(ldamodel[corpus]):\n",
        "        doc = topic_list[0] if ldamodel.per_word_topics else topic_list            \n",
        "        doc = sorted(doc, key=lambda x: (x[1]), reverse=True)\n",
        "\n",
        "        # 각 문서에 대해서 비중이 높은 토픽순으로 토픽을 정렬한다.\n",
        "        # EX) 정렬 전 0번 문서 : (2번 토픽, 48.5%), (8번 토픽, 25%), (10번 토픽, 5%), (12번 토픽, 21.5%), \n",
        "        # Ex) 정렬 후 0번 문서 : (2번 토픽, 48.5%), (8번 토픽, 25%), (12번 토픽, 21.5%), (10번 토픽, 5%)\n",
        "        # 48 > 25 > 21 > 5 순으로 정렬이 된 것.\n",
        "\n",
        "\n",
        "\n",
        "        # 모든 문서에 대해서 각각 아래를 수행\n",
        "\n",
        "        for j, (topic_num, prop_topic) in enumerate(doc): #  몇 번 토픽인지와 비중을 나눠서 저장한다.\n",
        "\n",
        "            if j == 0:  # 정렬을 한 상태이므로 가장 앞에 있는 것이 가장 비중이 높은 토픽\n",
        "\n",
        "                topic_table = topic_table.append(pd.Series([int(topic_num), round(prop_topic,4), topic_list]), ignore_index=True)\n",
        "\n",
        "                # 가장 비중이 높은 토픽 & 비중, 전체 토픽의 비중을 저장한다.\n",
        "\n",
        "            else:\n",
        "                break\n",
        "    return(topic_table)"
      ],
      "metadata": {
        "id": "_OGO99M9B1X3"
      },
      "execution_count": null,
      "outputs": []
    },
    {
      "cell_type": "code",
      "source": [
        "topictable = make_topictable_per_doc(lda_model_whole, corpus_whole)\n",
        "topictable = topictable.reset_index() # 문서 번호을 의미하는 열(column)로 사용하기 위해서 인덱스 열을 하나 더 만든다.\n",
        "topictable.columns = ['문서 번호', '가장 비중이 높은 토픽', '가장 높은 토픽의 비중', '각 토픽의 비중']\n",
        "topictable"
      ],
      "metadata": {
        "id": "An7waDbTB1-V"
      },
      "execution_count": null,
      "outputs": []
    },
    {
      "cell_type": "code",
      "source": [
        "topictable['month']=data['month'].reset_index()['month']"
      ],
      "metadata": {
        "id": "pji9j82_B4GS"
      },
      "execution_count": null,
      "outputs": []
    },
    {
      "cell_type": "code",
      "source": [
        "topic_words=dict(lda_model_whole.print_topics())\n",
        "topic_words"
      ],
      "metadata": {
        "id": "cRkKDUByB9T3"
      },
      "execution_count": null,
      "outputs": []
    },
    {
      "cell_type": "code",
      "source": [
        "topic=[0,2,3]\n",
        "montly_top_list=[]\n",
        "def get_ratio(data):\n",
        "  for a in range(1,13):\n",
        "    df=data[data['month']==a]\n",
        "    for i in topic:\n",
        "      print(a,\"월에\",i, \"번 째 토픽 기사개수는\", len(df[df['가장 비중이 높은 토픽']==i]))\n",
        "      k=len(df[df['가장 비중이 높은 토픽']==i])\n",
        "      montly_top_list.append([a,i,k])\n",
        "get_ratio(topictable)"
      ],
      "metadata": {
        "id": "3uZVZuzGCCkX"
      },
      "execution_count": null,
      "outputs": []
    }
  ]
}